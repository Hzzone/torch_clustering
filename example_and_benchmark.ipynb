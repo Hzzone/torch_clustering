{
  "cells": [
    {
      "cell_type": "code",
      "execution_count": 1,
      "metadata": {
        "collapsed": true,
        "pycharm": {
          "name": "#%%\n"
        },
        "id": "pAgFL_kwTr6J",
        "colab": {
          "base_uri": "https://localhost:8080/"
        },
        "outputId": "f91e7942-4f8a-4ac2-b4f6-d673f3469f5a"
      },
      "outputs": [
        {
          "output_type": "execute_result",
          "data": {
            "text/plain": [
              "<torch.autograd.grad_mode.set_grad_enabled at 0x7f4469a9e790>"
            ]
          },
          "metadata": {},
          "execution_count": 1
        }
      ],
      "source": [
        "import time\n",
        "import numpy as np\n",
        "import torch\n",
        "torch.autograd.set_grad_enabled(False)\n",
        "# torch.cuda.set_device(0)"
      ]
    },
    {
      "cell_type": "code",
      "source": [
        "!git clone --depth 1 https://github.com/Hzzone/torch_clustering\n",
        "import sys\n",
        "sys.path.insert(0, './torch_clustering')\n",
        "!pip install munkres faiss-gpu"
      ],
      "metadata": {
        "id": "u_0YUVAcVn1E",
        "outputId": "1d1b724e-f3ee-4097-bb9e-09ce5080c954",
        "colab": {
          "base_uri": "https://localhost:8080/"
        }
      },
      "execution_count": 11,
      "outputs": [
        {
          "output_type": "stream",
          "name": "stdout",
          "text": [
            "fatal: destination path 'torch_clustering' already exists and is not an empty directory.\n",
            "Looking in indexes: https://pypi.org/simple, https://us-python.pkg.dev/colab-wheels/public/simple/\n",
            "Requirement already satisfied: munkres in /usr/local/lib/python3.7/dist-packages (1.1.4)\n",
            "Collecting faiss-gpu\n",
            "  Downloading faiss_gpu-1.7.2-cp37-cp37m-manylinux_2_17_x86_64.manylinux2014_x86_64.whl (85.5 MB)\n",
            "\u001b[K     |████████████████████████████████| 85.5 MB 122 kB/s \n",
            "\u001b[?25hInstalling collected packages: faiss-gpu\n",
            "Successfully installed faiss-gpu-1.7.2\n"
          ]
        }
      ]
    },
    {
      "cell_type": "code",
      "source": [
        "!nvidia-smi"
      ],
      "metadata": {
        "id": "J2U7qUcogmb2",
        "outputId": "a794b256-9443-4d3e-d2ed-3f5554d77aff",
        "colab": {
          "base_uri": "https://localhost:8080/"
        }
      },
      "execution_count": 2,
      "outputs": [
        {
          "output_type": "stream",
          "name": "stdout",
          "text": [
            "Wed Oct 19 09:12:48 2022       \n",
            "+-----------------------------------------------------------------------------+\n",
            "| NVIDIA-SMI 460.32.03    Driver Version: 460.32.03    CUDA Version: 11.2     |\n",
            "|-------------------------------+----------------------+----------------------+\n",
            "| GPU  Name        Persistence-M| Bus-Id        Disp.A | Volatile Uncorr. ECC |\n",
            "| Fan  Temp  Perf  Pwr:Usage/Cap|         Memory-Usage | GPU-Util  Compute M. |\n",
            "|                               |                      |               MIG M. |\n",
            "|===============================+======================+======================|\n",
            "|   0  Tesla T4            Off  | 00000000:00:04.0 Off |                    0 |\n",
            "| N/A   44C    P8     9W /  70W |      0MiB / 15109MiB |      0%      Default |\n",
            "|                               |                      |                  N/A |\n",
            "+-------------------------------+----------------------+----------------------+\n",
            "                                                                               \n",
            "+-----------------------------------------------------------------------------+\n",
            "| Processes:                                                                  |\n",
            "|  GPU   GI   CI        PID   Type   Process name                  GPU Memory |\n",
            "|        ID   ID                                                   Usage      |\n",
            "|=============================================================================|\n",
            "|  No running processes found                                                 |\n",
            "+-----------------------------------------------------------------------------+\n"
          ]
        }
      ]
    },
    {
      "cell_type": "code",
      "source": [
        "from torch_clustering import PyTorchKMeans, FaissKMeans, PyTorchGaussianMixture, evaluate_clustering"
      ],
      "metadata": {
        "id": "pev77FcrVlBw"
      },
      "execution_count": 3,
      "outputs": []
    },
    {
      "cell_type": "code",
      "source": [
        "# CIFAR-10 features 256d\n",
        "# https://drive.google.com/file/d/1N3REtPr-A__KOtzRZenFSvRIEufW9j3A/view\n",
        "# ImageNet features 256d\n",
        "# https://drive.google.com/file/d/1UcUWw9o6Y6SrSFXOkNTVjCoEik79oUAo/view"
      ],
      "metadata": {
        "id": "la-iDc8fTt9m"
      },
      "execution_count": null,
      "outputs": []
    },
    {
      "cell_type": "code",
      "source": [
        "!gdown --id 1N3REtPr-A__KOtzRZenFSvRIEufW9j3A -O cifar10_features.pth\n",
        "# !gdown --id 1UcUWw9o6Y6SrSFXOkNTVjCoEik79oUAo -O imagenet_features.pth"
      ],
      "metadata": {
        "colab": {
          "base_uri": "https://localhost:8080/"
        },
        "id": "2vb5NIeRUAK2",
        "outputId": "a3b30405-f482-4c15-cac6-7d666a70b10d"
      },
      "execution_count": 5,
      "outputs": [
        {
          "output_type": "stream",
          "name": "stdout",
          "text": [
            "/usr/local/lib/python3.7/dist-packages/gdown/cli.py:131: FutureWarning: Option `--id` was deprecated in version 4.3.1 and will be removed in 5.0. You don't need to pass it anymore to use a file ID.\n",
            "  category=FutureWarning,\n",
            "Downloading...\n",
            "From: https://drive.google.com/uc?id=1N3REtPr-A__KOtzRZenFSvRIEufW9j3A\n",
            "To: /content/cifar10_features.pth\n",
            "100% 51.4M/51.4M [00:00<00:00, 57.7MB/s]\n"
          ]
        }
      ]
    },
    {
      "cell_type": "code",
      "execution_count": 4,
      "outputs": [],
      "source": [
        "features_path = './cifar10_features.pth'\n",
        "# features_path = '.imagenet_features.pth'\n",
        "data = torch.load(features_path, map_location='cpu')\n",
        "features, labels = data[:, :-1], data[:, -1]\n",
        "features, labels = features.cuda().float(), labels.cuda().long()\n",
        "features_numpy, labels_numpy = features.cpu().numpy(), labels.cpu().numpy()"
      ],
      "metadata": {
        "pycharm": {
          "name": "#%%\n"
        },
        "id": "GDBbamz6Tr6L"
      }
    },
    {
      "cell_type": "code",
      "execution_count": 5,
      "outputs": [],
      "source": [
        "kwargs = {\n",
        "    'metric': 'cosine',  # euclidean if not l2_normalize\n",
        "    'distributed': False,\n",
        "    'random_state': 0,\n",
        "    'n_clusters': int(labels_numpy.max() + 1),\n",
        "    'verbose': False\n",
        "}"
      ],
      "metadata": {
        "pycharm": {
          "name": "#%%\n"
        },
        "id": "pCoPgWo6Tr6M"
      }
    },
    {
      "cell_type": "code",
      "execution_count": 9,
      "outputs": [
        {
          "output_type": "execute_result",
          "data": {
            "text/plain": [
              "{'train_nmi': 0.8551917177300482, 'train_acc': 0.92368}"
            ]
          },
          "metadata": {},
          "execution_count": 9
        }
      ],
      "source": [
        "clustering_model = PyTorchKMeans(init='k-means++', max_iter=300, tol=1e-4, **kwargs)\n",
        "psedo_labels = clustering_model.fit_predict(features)\n",
        "evaluate_clustering(labels.cpu().numpy(), psedo_labels.cpu().numpy(), eval_metric=['nmi', 'acc'], phase='train')"
      ],
      "metadata": {
        "pycharm": {
          "name": "#%%\n"
        },
        "id": "mERpyrGMTr6M",
        "outputId": "ed9ea765-652a-44bd-a89e-945abe721054",
        "colab": {
          "base_uri": "https://localhost:8080/"
        }
      }
    },
    {
      "cell_type": "code",
      "execution_count": 6,
      "outputs": [
        {
          "output_type": "execute_result",
          "data": {
            "text/plain": [
              "{'train_nmi': 0.855235833704221, 'train_acc': 0.92358}"
            ]
          },
          "metadata": {},
          "execution_count": 6
        }
      ],
      "source": [
        "import faiss\n",
        "clustering_model = FaissKMeans(n_init=5, max_iter=50, **kwargs)\n",
        "psedo_labels = clustering_model.fit_predict(features_numpy, device=0)\n",
        "evaluate_clustering(labels.cpu().numpy(), psedo_labels.cpu().numpy(), eval_metric=['nmi', 'acc'], phase='train')"
      ],
      "metadata": {
        "pycharm": {
          "name": "#%%\n"
        },
        "id": "36LrARd3Tr6N",
        "outputId": "857717dc-a03c-47c5-b9ab-fc009725207f",
        "colab": {
          "base_uri": "https://localhost:8080/"
        }
      }
    },
    {
      "cell_type": "code",
      "execution_count": 7,
      "outputs": [
        {
          "output_type": "execute_result",
          "data": {
            "text/plain": [
              "{'train_nmi': 0.8559683572879772, 'train_acc': 0.92388}"
            ]
          },
          "metadata": {},
          "execution_count": 7
        }
      ],
      "source": [
        "clustering_model = PyTorchGaussianMixture(covariance_type='diag', reg_covar=1e-6, init='k-means++', **kwargs)\n",
        "psedo_labels = clustering_model.fit_predict(features)\n",
        "evaluate_clustering(labels.cpu().numpy(), torch.argmax(psedo_labels, dim=1).cpu().numpy(), eval_metric=['nmi', 'acc'])"
      ],
      "metadata": {
        "pycharm": {
          "name": "#%%\n"
        },
        "id": "8oPTjm0sTr6N",
        "outputId": "21a3b56a-0d9b-48aa-b427-26ec0092300b",
        "colab": {
          "base_uri": "https://localhost:8080/"
        }
      }
    },
    {
      "cell_type": "code",
      "execution_count": 8,
      "outputs": [
        {
          "output_type": "execute_result",
          "data": {
            "text/plain": [
              "(0.7327220916748047, 0.09029591208799001)"
            ]
          },
          "metadata": {},
          "execution_count": 8
        }
      ],
      "source": [
        "n_times = 10\n",
        "all_times = []\n",
        "for i in range(n_times):\n",
        "    st = time.time()\n",
        "    PyTorchKMeans(init='k-means++', max_iter=300, tol=1e-4, **kwargs).fit_predict(features)\n",
        "    all_times.append(time.time() - st)\n",
        "np.mean(all_times), np.std(all_times)"
      ],
      "metadata": {
        "pycharm": {
          "name": "#%%\n"
        },
        "id": "ogQJBtRzTr6O",
        "outputId": "80e1074f-2ed9-42c4-a42e-e81dd433ed5a",
        "colab": {
          "base_uri": "https://localhost:8080/"
        }
      }
    },
    {
      "cell_type": "code",
      "execution_count": 9,
      "outputs": [
        {
          "output_type": "execute_result",
          "data": {
            "text/plain": [
              "(4.598904633522034, 0.05315894215389966)"
            ]
          },
          "metadata": {},
          "execution_count": 9
        }
      ],
      "source": [
        "all_times = []\n",
        "for i in range(n_times):\n",
        "    st = time.time()\n",
        "    FaissKMeans(n_init=5, max_iter=50, **kwargs).fit_predict(features_numpy, device=0)\n",
        "    all_times.append(time.time() - st)\n",
        "np.mean(all_times), np.std(all_times)"
      ],
      "metadata": {
        "pycharm": {
          "name": "#%%\n"
        },
        "id": "Q_Dt_zqRTr6O",
        "outputId": "3f91ea34-0585-45e4-fede-5a39fa99edfe",
        "colab": {
          "base_uri": "https://localhost:8080/"
        }
      }
    },
    {
      "cell_type": "code",
      "execution_count": 10,
      "outputs": [
        {
          "output_type": "execute_result",
          "data": {
            "text/plain": [
              "(11.671153950691224, 0.33552815247925466)"
            ]
          },
          "metadata": {},
          "execution_count": 10
        }
      ],
      "source": [
        "all_times = []\n",
        "for i in range(n_times):\n",
        "    st = time.time()\n",
        "    PyTorchGaussianMixture(covariance_type='diag', reg_covar=1e-6, init='k-means++', **kwargs).fit_predict(features)\n",
        "    all_times.append(time.time() - st)\n",
        "np.mean(all_times), np.std(all_times)"
      ],
      "metadata": {
        "pycharm": {
          "name": "#%%\n",
          "is_executing": true
        },
        "id": "_Ywt0_W6Tr6P",
        "outputId": "5ddc44bd-c107-47eb-8c59-abc86fab61c5",
        "colab": {
          "base_uri": "https://localhost:8080/"
        }
      }
    },
    {
      "cell_type": "code",
      "execution_count": null,
      "outputs": [],
      "source": [],
      "metadata": {
        "pycharm": {
          "name": "#%%\n"
        },
        "id": "Zb3B3zlbTr6P"
      }
    }
  ],
  "metadata": {
    "kernelspec": {
      "display_name": "Python 3",
      "language": "python",
      "name": "python3"
    },
    "language_info": {
      "codemirror_mode": {
        "name": "ipython",
        "version": 2
      },
      "file_extension": ".py",
      "mimetype": "text/x-python",
      "name": "python",
      "nbconvert_exporter": "python",
      "pygments_lexer": "ipython2",
      "version": "2.7.6"
    },
    "colab": {
      "provenance": []
    },
    "accelerator": "GPU"
  },
  "nbformat": 4,
  "nbformat_minor": 0
}