{
 "cells": [
  {
   "cell_type": "code",
   "execution_count": 5,
   "metadata": {
    "collapsed": true,
    "pycharm": {
     "name": "#%%\n"
    },
    "id": "pAgFL_kwTr6J",
    "colab": {
     "base_uri": "https://localhost:8080/"
    },
    "executionInfo": {
     "status": "ok",
     "timestamp": 1666167850324,
     "user_tz": -480,
     "elapsed": 4,
     "user": {
      "displayName": "Zhizhong Huang",
      "userId": "06760258761713993021"
     }
    },
    "outputId": "cb06ed6b-8a86-4eae-f6fd-038c8a46c0fe"
   },
   "outputs": [
    {
     "output_type": "execute_result",
     "data": {
      "text/plain": [
       "<torch.autograd.grad_mode.set_grad_enabled at 0x7f5eda884850>"
      ]
     },
     "metadata": {},
     "execution_count": 5
    }
   ],
   "source": [
    "import time\n",
    "import numpy as np\n",
    "import torch\n",
    "torch.autograd.set_grad_enabled(False)\n",
    "# torch.cuda.set_device(0)"
   ]
  },
  {
   "cell_type": "code",
   "source": [
    "!git clone --depth https://github.com/Hzzone/torch_clustering\n",
    "!cd torch_clustering && pip install -e ."
   ],
   "metadata": {
    "id": "u_0YUVAcVn1E"
   },
   "execution_count": null,
   "outputs": []
  },
  {
   "cell_type": "code",
   "source": [
    "from torch_clustering import PyTorchKMeans, FaissKMeans, PyTorchGaussianMixture, evaluate_clustering"
   ],
   "metadata": {
    "id": "pev77FcrVlBw"
   },
   "execution_count": null,
   "outputs": []
  },
  {
   "cell_type": "code",
   "source": [
    "# CIFAR-10 features 256d\n",
    "# https://drive.google.com/file/d/1N3REtPr-A__KOtzRZenFSvRIEufW9j3A/view\n",
    "# ImageNet features 256d\n",
    "# https://drive.google.com/file/d/1UcUWw9o6Y6SrSFXOkNTVjCoEik79oUAo/view"
   ],
   "metadata": {
    "id": "la-iDc8fTt9m"
   },
   "execution_count": null,
   "outputs": []
  },
  {
   "cell_type": "code",
   "source": [
    "!gdown --help"
   ],
   "metadata": {
    "id": "sxejTebtUntA"
   },
   "execution_count": null,
   "outputs": []
  },
  {
   "cell_type": "code",
   "source": [
    "# !gdown --id 1N3REtPr-A__KOtzRZenFSvRIEufW9j3A -O cifar10_features.pth\n",
    "!gdown --id 1UcUWw9o6Y6SrSFXOkNTVjCoEik79oUAo -O imagenet_features.pth"
   ],
   "metadata": {
    "colab": {
     "base_uri": "https://localhost:8080/"
    },
    "id": "2vb5NIeRUAK2",
    "executionInfo": {
     "status": "ok",
     "timestamp": 1666168555599,
     "user_tz": -480,
     "elapsed": 19541,
     "user": {
      "displayName": "Zhizhong Huang",
      "userId": "06760258761713993021"
     }
    },
    "outputId": "e2e69c6f-4a88-4cc6-a08b-fb2aeb1cb690"
   },
   "execution_count": 12,
   "outputs": [
    {
     "output_type": "stream",
     "name": "stdout",
     "text": [
      "/usr/local/lib/python3.7/dist-packages/gdown/cli.py:131: FutureWarning: Option `--id` was deprecated in version 4.3.1 and will be removed in 5.0. You don't need to pass it anymore to use a file ID.\n",
      "  category=FutureWarning,\n",
      "Downloading...\n",
      "From: https://drive.google.com/uc?id=1UcUWw9o6Y6SrSFXOkNTVjCoEik79oUAo\n",
      "To: /content/imagenet_features.pth\n",
      "100% 1.32G/1.32G [00:17<00:00, 75.3MB/s]\n"
     ]
    }
   ]
  },
  {
   "cell_type": "code",
   "execution_count": null,
   "outputs": [],
   "source": [
    "features_path = './cifar10_features.pth'\n",
    "# features_path = '.imagenet_features.pth'\n",
    "data = torch.load(features_path, map_location='cpu')\n",
    "features, labels = data[:, :-1], data[:, -1]\n",
    "features, labels = features.cuda().float(), labels.cuda().long()\n",
    "features_numpy, labels_numpy = features.cpu().numpy(), labels.cpu().numpy()"
   ],
   "metadata": {
    "pycharm": {
     "name": "#%%\n"
    },
    "id": "GDBbamz6Tr6L"
   }
  },
  {
   "cell_type": "code",
   "execution_count": null,
   "outputs": [],
   "source": [
    "kwargs = {\n",
    "    'metric': 'cosine',  # euclidean if not l2_normalize\n",
    "    'distributed': False,\n",
    "    'random_state': 0,\n",
    "    'n_clusters': int(labels_numpy.max() + 1),\n",
    "    'verbose': False\n",
    "}"
   ],
   "metadata": {
    "pycharm": {
     "name": "#%%\n"
    },
    "id": "pCoPgWo6Tr6M"
   }
  },
  {
   "cell_type": "code",
   "execution_count": null,
   "outputs": [
    {
     "data": {
      "text/plain": "{'train_nmi': 0.8551917177300482, 'train_acc': 0.92368}"
     },
     "execution_count": 6,
     "metadata": {},
     "output_type": "execute_result"
    }
   ],
   "source": [
    "clustering_model = PyTorchKMeans(init='k-means++', max_iter=300, tol=1e-4, **kwargs)\n",
    "psedo_labels = clustering_model.fit_predict(features)\n",
    "evaluate_clustering(labels.cpu().numpy(), psedo_labels.cpu().numpy(), eval_metric=['nmi', 'acc'], phase='train')"
   ],
   "metadata": {
    "pycharm": {
     "name": "#%%\n"
    },
    "id": "mERpyrGMTr6M",
    "outputId": "8fecef82-bbe1-4924-9e48-af29e510a848"
   }
  },
  {
   "cell_type": "code",
   "execution_count": null,
   "outputs": [
    {
     "data": {
      "text/plain": "{'train_nmi': 0.855235833704221, 'train_acc': 0.92358}"
     },
     "execution_count": 4,
     "metadata": {},
     "output_type": "execute_result"
    }
   ],
   "source": [
    "clustering_model = FaissKMeans(n_init=5, max_iter=50, **kwargs)\n",
    "psedo_labels = clustering_model.fit_predict(features_numpy, device=0)\n",
    "evaluate_clustering(labels.cpu().numpy(), psedo_labels.cpu().numpy(), eval_metric=['nmi', 'acc'], phase='train')"
   ],
   "metadata": {
    "pycharm": {
     "name": "#%%\n"
    },
    "id": "36LrARd3Tr6N",
    "outputId": "19a8907f-d63c-400f-a906-1ea8a826e5b9"
   }
  },
  {
   "cell_type": "code",
   "execution_count": null,
   "outputs": [
    {
     "data": {
      "text/plain": "{'train_nmi': 0.8559683572879772, 'train_acc': 0.92388}"
     },
     "execution_count": 5,
     "metadata": {},
     "output_type": "execute_result"
    }
   ],
   "source": [
    "clustering_model = PyTorchGaussianMixture(covariance_type='diag', reg_covar=1e-6, init='k-means++', **kwargs)\n",
    "psedo_labels = clustering_model.fit_predict(features)\n",
    "evaluate_clustering(labels.cpu().numpy(), torch.argmax(psedo_labels, dim=1).cpu().numpy(), eval_metric=['nmi', 'acc'])"
   ],
   "metadata": {
    "pycharm": {
     "name": "#%%\n"
    },
    "id": "8oPTjm0sTr6N",
    "outputId": "deda17ff-017b-4baa-deac-cc2e507c41fa"
   }
  },
  {
   "cell_type": "code",
   "execution_count": null,
   "outputs": [
    {
     "data": {
      "text/plain": "(2.2640299797058105, 0.0804519734107353)"
     },
     "execution_count": 12,
     "metadata": {},
     "output_type": "execute_result"
    }
   ],
   "source": [
    "n_times = 10\n",
    "all_times = []\n",
    "for i in range(n_times):\n",
    "    st = time.time()\n",
    "    PyTorchKMeans(init='k-means++', max_iter=300, tol=1e-4, **kwargs).fit_predict(features)\n",
    "    all_times.append(time.time() - st)\n",
    "np.mean(all_times), np.std(all_times)"
   ],
   "metadata": {
    "pycharm": {
     "name": "#%%\n"
    },
    "id": "ogQJBtRzTr6O",
    "outputId": "065211f7-ddef-4ecc-ad2f-03c05a7800fa"
   }
  },
  {
   "cell_type": "code",
   "execution_count": null,
   "outputs": [
    {
     "data": {
      "text/plain": "(8.365153431892395, 0.6574485328135397)"
     },
     "execution_count": 13,
     "metadata": {},
     "output_type": "execute_result"
    }
   ],
   "source": [
    "all_times = []\n",
    "for i in range(n_times):\n",
    "    st = time.time()\n",
    "    FaissKMeans(n_init=5, max_iter=50, **kwargs).fit_predict(features_numpy, device=0)\n",
    "    all_times.append(time.time() - st)\n",
    "np.mean(all_times), np.std(all_times)"
   ],
   "metadata": {
    "pycharm": {
     "name": "#%%\n"
    },
    "id": "Q_Dt_zqRTr6O",
    "outputId": "61221ff4-a4bf-487d-f1df-73a45a62493e"
   }
  },
  {
   "cell_type": "code",
   "execution_count": null,
   "outputs": [],
   "source": [
    "all_times = []\n",
    "for i in range(n_times):\n",
    "    st = time.time()\n",
    "    PyTorchGaussianMixture(covariance_type='diag', reg_covar=1e-6, init='k-means++', **kwargs).fit_predict(features)\n",
    "    all_times.append(time.time() - st)\n",
    "np.mean(all_times), np.std(all_times)"
   ],
   "metadata": {
    "pycharm": {
     "name": "#%%\n",
     "is_executing": true
    },
    "id": "_Ywt0_W6Tr6P"
   }
  },
  {
   "cell_type": "code",
   "execution_count": null,
   "outputs": [],
   "source": [],
   "metadata": {
    "pycharm": {
     "name": "#%%\n"
    },
    "id": "Zb3B3zlbTr6P"
   }
  }
 ],
 "metadata": {
  "kernelspec": {
   "display_name": "Python 3",
   "language": "python",
   "name": "python3"
  },
  "language_info": {
   "codemirror_mode": {
    "name": "ipython",
    "version": 2
   },
   "file_extension": ".py",
   "mimetype": "text/x-python",
   "name": "python",
   "nbconvert_exporter": "python",
   "pygments_lexer": "ipython2",
   "version": "2.7.6"
  },
  "colab": {
   "provenance": []
  }
 },
 "nbformat": 4,
 "nbformat_minor": 0
}